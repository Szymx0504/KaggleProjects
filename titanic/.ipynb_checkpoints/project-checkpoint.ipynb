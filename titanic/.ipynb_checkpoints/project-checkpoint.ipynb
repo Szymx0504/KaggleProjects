{
 "cells": [
  {
   "cell_type": "markdown",
   "id": "f21fff38",
   "metadata": {
    "vscode": {
     "languageId": "plaintext"
    }
   },
   "source": [
    "print(5)"
   ]
  }
 ],
 "metadata": {
  "language_info": {
   "name": "python"
  }
 },
 "nbformat": 4,
 "nbformat_minor": 5
}
